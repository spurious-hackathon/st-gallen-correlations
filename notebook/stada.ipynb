{
 "cells": [
  {
   "cell_type": "code",
   "execution_count": null,
   "id": "4ad38749-309a-498d-95a1-ea1d66d76a46",
   "metadata": {},
   "outputs": [],
   "source": [
    "import pandas as pd\n",
    "import os"
   ]
  },
  {
   "cell_type": "code",
   "execution_count": null,
   "id": "b81e4cd0-bb48-4132-904f-8fc7acc57d89",
   "metadata": {},
   "outputs": [],
   "source": [
    "#alle stada files im directory ins format bringen\n",
    "directory = './Data/'\n",
    "target_dir='./Data_Bearb'"
   ]
  },
  {
   "cell_type": "code",
   "execution_count": null,
   "id": "a57ad385-44b3-4dbb-8266-6644582be05e",
   "metadata": {},
   "outputs": [],
   "source": [
    "\n",
    "dataframes_list = []\n",
    "counter = 0\n",
    "for file in os.listdir(directory):\n",
    "    filename = os.fsdecode(file)\n",
    "    if filename.endswith(\".csv\"):\n",
    "        df = pd.read_csv(directory + filename, sep=';', usecols=['INDIKATOR_ID', 'INDIKATOR_NAME', 'GEBIET_NAME', 'INDIKATOR_JAHR', 'INDIKATOR_VALUE', 'EINHEIT_KURZ'], encoding='latin-1')\n",
    "        name ='TAG_'+str(df.at[0,'GEBIET_NAME'])+' ' + str(df.at[0,'INDIKATOR_NAME'])\n",
    "        unit = str(df.at[0,'EINHEIT_KURZ'])\n",
    "        df['INDIKATOR_VALUE'] = df['INDIKATOR_VALUE'].astype(str) + ' '+ unit\n",
    "        df = df.rename(columns={\"INDIKATOR_JAHR\": \"T_Y\", \"INDIKATOR_VALUE\": name})\n",
    "        df = df.drop(['INDIKATOR_NAME','GEBIET_NAME','EINHEIT_KURZ'], axis=1)\n",
    "        grouped = df.groupby('INDIKATOR_ID')\n",
    "        for name, group in grouped:\n",
    "            group = group.drop(['INDIKATOR_ID'], axis=1)\n",
    "            group.to_csv(target_dir+str(name)+filename, index=False, sep=';')\n"
   ]
  }
 ],
 "metadata": {
  "kernelspec": {
   "display_name": "Python 3 (ipykernel)",
   "language": "python",
   "name": "python3"
  },
  "language_info": {
   "codemirror_mode": {
    "name": "ipython",
    "version": 3
   },
   "file_extension": ".py",
   "mimetype": "text/x-python",
   "name": "python",
   "nbconvert_exporter": "python",
   "pygments_lexer": "ipython3",
   "version": "3.9.10"
  }
 },
 "nbformat": 4,
 "nbformat_minor": 5
}
