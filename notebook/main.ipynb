{
 "cells": [
  {
   "cell_type": "markdown",
   "id": "43cb33e3-cb27-4987-9be7-7129cb18504d",
   "metadata": {},
   "source": [
    "# Spurious St. Gallen - Odd Correlations\n",
    "Rafael James Novotny, Linus Flury, Dominik Castelberg"
   ]
  },
  {
   "cell_type": "code",
   "execution_count": 1,
   "metadata": {},
   "outputs": [],
   "source": [
    "import math\n",
    "import os\n",
    "import numpy as np\n",
    "import sklearn as skl\n",
    "import matplotlib.pyplot as plt\n",
    "import matplotlib.dates as mdates\n",
    "import pandas as pd\n",
    "import datetime as dt"
   ]
  },
  {
   "cell_type": "markdown",
   "metadata": {},
   "source": [
    "## Helpers"
   ]
  },
  {
   "cell_type": "code",
   "execution_count": 2,
   "id": "28e53b46",
   "metadata": {},
   "outputs": [],
   "source": [
    "# Config\n",
    "## Paths\n",
    "conf_root = '../'\n",
    "conf_source_folder_path = conf_root + 'data/source/'\n",
    "conf_merged_folder_path = conf_root + 'data/merged/'\n",
    "conf_cache_folder_path = conf_root + 'cache/'\n",
    "conf_correlation_matrix_path = conf_cache_folder_path + 'corr_matrix.dat'\n",
    "\n",
    "## Variables\n",
    "conf_correlation_selection_threshold = 0.8"
   ]
  },
  {
   "cell_type": "code",
   "execution_count": 11,
   "id": "5ea5bc3f-0c9a-40f0-a13c-a44be14e4f27",
   "metadata": {},
   "outputs": [
    {
     "ename": "KeyError",
     "evalue": "0",
     "output_type": "error",
     "traceback": [
      "\u001b[1;31m---------------------------------------------------------------------------\u001b[0m",
      "\u001b[1;31mKeyError\u001b[0m                                  Traceback (most recent call last)",
      "File \u001b[1;32mc:\\Users\\doca\\Anaconda3\\envs\\AI_App_Project1.1\\lib\\site-packages\\pandas\\core\\indexes\\base.py:3629\u001b[0m, in \u001b[0;36mIndex.get_loc\u001b[1;34m(self, key, method, tolerance)\u001b[0m\n\u001b[0;32m   3628\u001b[0m \u001b[39mtry\u001b[39;00m:\n\u001b[1;32m-> 3629\u001b[0m     \u001b[39mreturn\u001b[39;00m \u001b[39mself\u001b[39;49m\u001b[39m.\u001b[39;49m_engine\u001b[39m.\u001b[39;49mget_loc(casted_key)\n\u001b[0;32m   3630\u001b[0m \u001b[39mexcept\u001b[39;00m \u001b[39mKeyError\u001b[39;00m \u001b[39mas\u001b[39;00m err:\n",
      "File \u001b[1;32mc:\\Users\\doca\\Anaconda3\\envs\\AI_App_Project1.1\\lib\\site-packages\\pandas\\_libs\\index.pyx:136\u001b[0m, in \u001b[0;36mpandas._libs.index.IndexEngine.get_loc\u001b[1;34m()\u001b[0m\n",
      "File \u001b[1;32mc:\\Users\\doca\\Anaconda3\\envs\\AI_App_Project1.1\\lib\\site-packages\\pandas\\_libs\\index.pyx:163\u001b[0m, in \u001b[0;36mpandas._libs.index.IndexEngine.get_loc\u001b[1;34m()\u001b[0m\n",
      "File \u001b[1;32mpandas\\_libs\\hashtable_class_helper.pxi:5198\u001b[0m, in \u001b[0;36mpandas._libs.hashtable.PyObjectHashTable.get_item\u001b[1;34m()\u001b[0m\n",
      "File \u001b[1;32mpandas\\_libs\\hashtable_class_helper.pxi:5206\u001b[0m, in \u001b[0;36mpandas._libs.hashtable.PyObjectHashTable.get_item\u001b[1;34m()\u001b[0m\n",
      "\u001b[1;31mKeyError\u001b[0m: 0",
      "\nThe above exception was the direct cause of the following exception:\n",
      "\u001b[1;31mKeyError\u001b[0m                                  Traceback (most recent call last)",
      "\u001b[1;32mc:\\source\\st-gallen-correlations\\notebook\\main.ipynb Cell 5\u001b[0m in \u001b[0;36m<cell line: 55>\u001b[1;34m()\u001b[0m\n\u001b[0;32m     <a href='vscode-notebook-cell:/c%3A/source/st-gallen-correlations/notebook/main.ipynb#W5sZmlsZQ%3D%3D?line=55'>56</a>\u001b[0m     filename \u001b[39m=\u001b[39m os\u001b[39m.\u001b[39mfsdecode(file)\n\u001b[0;32m     <a href='vscode-notebook-cell:/c%3A/source/st-gallen-correlations/notebook/main.ipynb#W5sZmlsZQ%3D%3D?line=56'>57</a>\u001b[0m     \u001b[39mif\u001b[39;00m filename\u001b[39m.\u001b[39mendswith(\u001b[39m\"\u001b[39m\u001b[39m.csv\u001b[39m\u001b[39m\"\u001b[39m):\n\u001b[1;32m---> <a href='vscode-notebook-cell:/c%3A/source/st-gallen-correlations/notebook/main.ipynb#W5sZmlsZQ%3D%3D?line=57'>58</a>\u001b[0m         dataframes_list[counter] \u001b[39m=\u001b[39m create_dataframe_collection(conf_merged_folder_path \u001b[39m+\u001b[39;49m filename)\n\u001b[0;32m     <a href='vscode-notebook-cell:/c%3A/source/st-gallen-correlations/notebook/main.ipynb#W5sZmlsZQ%3D%3D?line=58'>59</a>\u001b[0m         counter \u001b[39m+\u001b[39m\u001b[39m=\u001b[39m \u001b[39m1\u001b[39m\n\u001b[0;32m     <a href='vscode-notebook-cell:/c%3A/source/st-gallen-correlations/notebook/main.ipynb#W5sZmlsZQ%3D%3D?line=61'>62</a>\u001b[0m corrMatrix \u001b[39m=\u001b[39m np\u001b[39m.\u001b[39mzeroes(counter, counter)\n",
      "\u001b[1;32mc:\\source\\st-gallen-correlations\\notebook\\main.ipynb Cell 5\u001b[0m in \u001b[0;36mcreate_dataframe_collection\u001b[1;34m(filename)\u001b[0m\n\u001b[0;32m     <a href='vscode-notebook-cell:/c%3A/source/st-gallen-correlations/notebook/main.ipynb#W5sZmlsZQ%3D%3D?line=41'>42</a>\u001b[0m \u001b[39mdef\u001b[39;00m \u001b[39mcreate_dataframe_collection\u001b[39m(filename: \u001b[39mstr\u001b[39m):\n\u001b[0;32m     <a href='vscode-notebook-cell:/c%3A/source/st-gallen-correlations/notebook/main.ipynb#W5sZmlsZQ%3D%3D?line=42'>43</a>\u001b[0m     df_h \u001b[39m=\u001b[39m pd\u001b[39m.\u001b[39mread_csv(filename, sep\u001b[39m=\u001b[39m\u001b[39m'\u001b[39m\u001b[39m;\u001b[39m\u001b[39m'\u001b[39m, usecols\u001b[39m=\u001b[39m[\u001b[39m0\u001b[39m, \u001b[39m1\u001b[39m])\n\u001b[1;32m---> <a href='vscode-notebook-cell:/c%3A/source/st-gallen-correlations/notebook/main.ipynb#W5sZmlsZQ%3D%3D?line=43'>44</a>\u001b[0m     df_h[\u001b[39m0\u001b[39m] \u001b[39m=\u001b[39m pd\u001b[39m.\u001b[39mto_datetime(df_h[\u001b[39m0\u001b[39;49m], \u001b[39mformat\u001b[39m\u001b[39m=\u001b[39m\u001b[39m'\u001b[39m\u001b[39m%\u001b[39m\u001b[39mY-\u001b[39m\u001b[39m%\u001b[39m\u001b[39mm-\u001b[39m\u001b[39m%d\u001b[39;00m\u001b[39mT\u001b[39m\u001b[39m%\u001b[39m\u001b[39mh\u001b[39m\u001b[39m'\u001b[39m)\n\u001b[0;32m     <a href='vscode-notebook-cell:/c%3A/source/st-gallen-correlations/notebook/main.ipynb#W5sZmlsZQ%3D%3D?line=44'>45</a>\u001b[0m     df_d \u001b[39m=\u001b[39m pd\u001b[39m.\u001b[39mread_csv(filename, sep\u001b[39m=\u001b[39m\u001b[39m'\u001b[39m\u001b[39m;\u001b[39m\u001b[39m'\u001b[39m, usecols\u001b[39m=\u001b[39m[\u001b[39m2\u001b[39m, \u001b[39m3\u001b[39m])\n\u001b[0;32m     <a href='vscode-notebook-cell:/c%3A/source/st-gallen-correlations/notebook/main.ipynb#W5sZmlsZQ%3D%3D?line=45'>46</a>\u001b[0m     df_d[\u001b[39m0\u001b[39m] \u001b[39m=\u001b[39m pd\u001b[39m.\u001b[39mto_datetime(df_d[\u001b[39m0\u001b[39m], \u001b[39mformat\u001b[39m\u001b[39m=\u001b[39m\u001b[39m'\u001b[39m\u001b[39m%\u001b[39m\u001b[39mY-\u001b[39m\u001b[39m%\u001b[39m\u001b[39mm-\u001b[39m\u001b[39m%d\u001b[39;00m\u001b[39m'\u001b[39m)\n",
      "File \u001b[1;32mc:\\Users\\doca\\Anaconda3\\envs\\AI_App_Project1.1\\lib\\site-packages\\pandas\\core\\frame.py:3505\u001b[0m, in \u001b[0;36mDataFrame.__getitem__\u001b[1;34m(self, key)\u001b[0m\n\u001b[0;32m   3503\u001b[0m \u001b[39mif\u001b[39;00m \u001b[39mself\u001b[39m\u001b[39m.\u001b[39mcolumns\u001b[39m.\u001b[39mnlevels \u001b[39m>\u001b[39m \u001b[39m1\u001b[39m:\n\u001b[0;32m   3504\u001b[0m     \u001b[39mreturn\u001b[39;00m \u001b[39mself\u001b[39m\u001b[39m.\u001b[39m_getitem_multilevel(key)\n\u001b[1;32m-> 3505\u001b[0m indexer \u001b[39m=\u001b[39m \u001b[39mself\u001b[39;49m\u001b[39m.\u001b[39;49mcolumns\u001b[39m.\u001b[39;49mget_loc(key)\n\u001b[0;32m   3506\u001b[0m \u001b[39mif\u001b[39;00m is_integer(indexer):\n\u001b[0;32m   3507\u001b[0m     indexer \u001b[39m=\u001b[39m [indexer]\n",
      "File \u001b[1;32mc:\\Users\\doca\\Anaconda3\\envs\\AI_App_Project1.1\\lib\\site-packages\\pandas\\core\\indexes\\base.py:3631\u001b[0m, in \u001b[0;36mIndex.get_loc\u001b[1;34m(self, key, method, tolerance)\u001b[0m\n\u001b[0;32m   3629\u001b[0m     \u001b[39mreturn\u001b[39;00m \u001b[39mself\u001b[39m\u001b[39m.\u001b[39m_engine\u001b[39m.\u001b[39mget_loc(casted_key)\n\u001b[0;32m   3630\u001b[0m \u001b[39mexcept\u001b[39;00m \u001b[39mKeyError\u001b[39;00m \u001b[39mas\u001b[39;00m err:\n\u001b[1;32m-> 3631\u001b[0m     \u001b[39mraise\u001b[39;00m \u001b[39mKeyError\u001b[39;00m(key) \u001b[39mfrom\u001b[39;00m \u001b[39merr\u001b[39;00m\n\u001b[0;32m   3632\u001b[0m \u001b[39mexcept\u001b[39;00m \u001b[39mTypeError\u001b[39;00m:\n\u001b[0;32m   3633\u001b[0m     \u001b[39m# If we have a listlike key, _check_indexing_error will raise\u001b[39;00m\n\u001b[0;32m   3634\u001b[0m     \u001b[39m#  InvalidIndexError. Otherwise we fall through and re-raise\u001b[39;00m\n\u001b[0;32m   3635\u001b[0m     \u001b[39m#  the TypeError.\u001b[39;00m\n\u001b[0;32m   3636\u001b[0m     \u001b[39mself\u001b[39m\u001b[39m.\u001b[39m_check_indexing_error(key)\n",
      "\u001b[1;31mKeyError\u001b[0m: 0"
     ]
    }
   ],
   "source": [
    "\n",
    "def getcrossminlevel(dataframes1, dataframes2):\n",
    "    # Levels: y: 3, m:2, d: 1, h:0, error: -1\n",
    "    return max(getminlevel(dataframes1), getminlevel(dataframes2))\n",
    "\n",
    "\n",
    "def getminlevel(dataframes):\n",
    "    for k in range(4):\n",
    "        if not pd.isnull(dataframes[k].iloc[0, 0]):\n",
    "            return k\n",
    "\n",
    "    return -1\n",
    "\n",
    "\n",
    "def cropdates(dataframes1, dataframes2):\n",
    "    min1 = dataframes1.iloc[0, 0]\n",
    "    min2 = dataframes2.iloc[0, 0]\n",
    "    max1 = dataframes1.iloc[-1, 0]\n",
    "    max2 = dataframes2.iloc[-1, 0]\n",
    "\n",
    "    df_1 = dataframes1.copy()\n",
    "    df_2 = dataframes2.copy()\n",
    "    if min1 < min2:\n",
    "        df_1.iloc[:, 0] = df_1[df_1.iloc[:, 0] >= min2]\n",
    "    else:\n",
    "        df_2.iloc[:, 0] = df_2[df_2.iloc[:, 0] >= min1]\n",
    "\n",
    "    if max1 > max2:\n",
    "        df_1.iloc[:, 0] = df_1[df_1.iloc[:, 0] <= max2]\n",
    "    else:\n",
    "        df_2.iloc[:, 0] = df_2[df_2.iloc[:, 0] <= max1]\n",
    "\n",
    "    return df_1, df_2\n",
    "\n",
    "\n",
    "def combinedf(df_1, df_2):\n",
    "    # check if works\n",
    "    df_1.set_index(df_1.iloc[:, 0], inplace=True)\n",
    "    df_2.set_index(df_2.iloc[:, 0], inplace=True)\n",
    "    df_1 = df_1.drop(df_1.columns[[0]], axis=1)\n",
    "    df_2 = df_2.drop(df_2.columns[[0]], axis=1)\n",
    "    df = pd.merge(df_1,df_2, how='inner', left_index=True, right_index=True)\n",
    "    return df.dropna()\n",
    "\n",
    "def create_dataframe_collection(filename: str):\n",
    "    df_y = pd.read_csv(filename, sep=';', usecols=[6, 7])\n",
    "    df_y.iloc[:, 0] = pd.to_datetime(df_y.iloc[:, 0], format='%Y')\n",
    "    df_m = pd.read_csv(filename, sep=';', usecols=[4, 5])\n",
    "    df_m.iloc[:, 0] = pd.to_datetime(df_m.iloc[:, 0], format='%Y-%m')\n",
    "    df_d = pd.read_csv(filename, sep=';', usecols=[2, 3])\n",
    "    df_d.iloc[:, 0] = pd.to_datetime(df_d.iloc[:, 0], format='%Y-%m-%d')\n",
    "    df_h = pd.read_csv(filename, sep=';', usecols=[0, 1])\n",
    "    df_h.iloc[:, 0] = pd.to_datetime(df_d.iloc[:, 0][0], format='%Y-%m-%dT%h')\n",
    "    return [df_h, df_d, df_m, df_y, filename]\n",
    "\n",
    "dataframes_list = []\n",
    "counter = 0\n",
    "for file in os.listdir(conf_merged_folder_path):\n",
    "    filename = os.fsdecode(file)\n",
    "    if filename.endswith(\".csv\"):\n",
    "        dataframes_list[counter] = create_dataframe_collection(conf_merged_folder_path + filename)\n",
    "        counter += 1\n",
    "\n",
    "\n",
    "corrMatrix = np.zeros((counter, counter))\n",
    "for i in range(counter):\n",
    "    for j in range(i+1, counter):\n",
    "        level = getcrossminlevel(dataframes_list[i], dataframes_list[j])\n",
    "        if level == -1:\n",
    "            continue\n",
    "        # Levels: y: 3, m:2, d: 1, h:0, error: -1\n",
    "        dframe1, dframe2 = cropdates(dataframes_list[i][level], dataframes_list[j][level])\n",
    "        df_for_corr = combinedf(dframe1, dframe2)\n",
    "        corrMatrix[i, j] = df_for_corr.iloc[:, 0].corr(df_for_corr.iloc[:, 1])\n",
    "\n",
    "\n",
    "np.savetxt(conf_correlation_matrix_path, corrMatrix, delimiter=';')"
   ]
  },
  {
   "cell_type": "code",
   "execution_count": 7,
   "metadata": {},
   "outputs": [],
   "source": [
    "# PLOT HELPERS\n",
    "def plot_stats(df: pd.DataFrame, title: str, x_label: str, y1_label: str, y2_label: str):\n",
    "    ax1 = df.plot('x','y1', color='b')\n",
    "    ax1.set_ylabel(y1_label)\n",
    "    ax1.set_xlabel(x_label)\n",
    "    ax_twin = ax1.twinx()\n",
    "    ax2 = df.plot('x','y2',ax=ax_twin, secondary_y=True, color='r')\n",
    "    ax2.set_ylabel(y2_label)\n",
    "    plt.title(title)\n",
    "    plt.show()\n",
    "\n",
    "#Sample\n",
    "#test_df = pd.DataFrame({'x' : ['1991-01-01T02','1991-01-02T02','1991-01-04T02','1991-01-05T02'],'y1' : [10,20,30,40],'y2' : [100,50,-30,-50]})\n",
    "#plot_stats(test_df, 'This is a Title', 'X axis', 'Y1 axis', 'Y2 axis')    \n",
    "\n",
    "# load stored correlation matrix\n",
    "correlation_matrix: np.ndarray = np.loadtxt(conf_correlation_matrix_path, np.ndarray, delimiter=';')\n",
    "\n",
    "# list .csv files in merged folder\n",
    "files = [f for f in os.listdir(conf_merged_folder_path) if f.endswith('.csv')]\n",
    "\n",
    "for i in range(counter):\n",
    "    for j in range(i+1, counter):\n",
    "        print(float(correlation_matrix[i, j]))\n",
    "        if float(correlation_matrix[i, j]).abs() > conf_correlation_selection_threshold:\n",
    "            path_data1 = files[i]\n",
    "            dataframe_collection_data1 = create_dataframe_collection(path_data1)\n",
    "            path_data2 = files[j]\n",
    "            dataframe_collection_data2 = create_dataframe_collection(path_data2)\n",
    "            level = getcrossminlevel(dataframes_list[i], dataframes_list[j])\n",
    "            if level == -1:\n",
    "                continue\n",
    "            dframe1, dframe2 = cropdates(dataframe_collection_data1[level], dataframe_collection_data2[level])\n",
    "            plot_stats(\n",
    "                df=combinedf(df_1=dframe1, df_2=dframe2),\n",
    "                title=path_data1 + ' X ' + path_data2, x_label='Date',\n",
    "                y1_label=path_data1,\n",
    "                y2_label=path_data2\n",
    "            )\n",
    "            \n",
    "            "
   ]
  }
 ],
 "metadata": {
  "kernelspec": {
   "display_name": "Python 3.9.7 ('AI_App_Project1.1')",
   "language": "python",
   "name": "python3"
  },
  "language_info": {
   "codemirror_mode": {
    "name": "ipython",
    "version": 3
   },
   "file_extension": ".py",
   "mimetype": "text/x-python",
   "name": "python",
   "nbconvert_exporter": "python",
   "pygments_lexer": "ipython3",
   "version": "3.9.7"
  },
  "vscode": {
   "interpreter": {
    "hash": "47f4b94770d72c0e291f24dea8c3b6f4496c4e4a32586f340c5e1e528635d191"
   }
  }
 },
 "nbformat": 4,
 "nbformat_minor": 5
}
