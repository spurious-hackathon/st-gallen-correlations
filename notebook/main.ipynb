{
 "cells": [
  {
   "cell_type": "markdown",
   "id": "43cb33e3-cb27-4987-9be7-7129cb18504d",
   "metadata": {},
   "source": [
    "# Spurious St. Gallen - Odd Correlations\n",
    "Rafael James Novotny, Linus Flury, Dominik Castelberg"
   ]
  },
  {
   "cell_type": "code",
   "execution_count": 2,
   "metadata": {},
   "outputs": [],
   "source": [
    "import math\n",
    "import os\n",
    "import numpy as np\n",
    "import sklearn as skl\n",
    "import matplotlib.pyplot as plt\n",
    "import matplotlib.dates as mdates\n",
    "import pandas as pd\n",
    "import datetime as dt"
   ]
  },
  {
   "cell_type": "markdown",
   "metadata": {},
   "source": [
    "## Helpers"
   ]
  },
  {
   "cell_type": "code",
   "execution_count": null,
   "id": "28e53b46",
   "metadata": {},
   "outputs": [],
   "source": [
    "#Config\n",
    "conf_correlation_selection_threshold = 0.8"
   ]
  },
  {
   "cell_type": "code",
   "execution_count": null,
   "id": "5ea5bc3f-0c9a-40f0-a13c-a44be14e4f27",
   "metadata": {},
   "outputs": [],
   "source": [
    "\n",
    "def getcrossminlevel(dataframes1, dataframes2):\n",
    "    # Levels: y: 3, m:2, d: 1, h:0, error: -1\n",
    "    return max(getminlevel(dataframes1), getminlevel(dataframes2))\n",
    "\n",
    "\n",
    "def getminlevel(dataframes):\n",
    "    for k in range(4):\n",
    "        if not pd.isnull(dataframes[k].iloc[0, 0]):\n",
    "            return k\n",
    "\n",
    "    return -1\n",
    "\n",
    "\n",
    "def cropdates(dataframes1, dataframes2):\n",
    "    min1 = dataframes1.iloc[0, 0]\n",
    "    min2 = dataframes2.iloc[0, 0]\n",
    "    max1 = dataframes1.iloc[-1, 0]\n",
    "    max2 = dataframes2.iloc[-1, 0]\n",
    "\n",
    "    df_1 = dataframes1.copy()\n",
    "    df_2 = dataframes2.copy()\n",
    "    if min1 < min2:\n",
    "        df_1.iloc[:, 0] = df_1[df_1.iloc[:, 0] >= min2]\n",
    "    else:\n",
    "        df_2.iloc[:, 0] = df_2[df_2.iloc[:, 0] >= min1]\n",
    "\n",
    "    if max1 > max2:\n",
    "        df_1.iloc[:, 0] = df_1[df_1.iloc[:, 0] <= max2]\n",
    "    else:\n",
    "        df_2.iloc[:, 0] = df_2[df_2.iloc[:, 0] <= max1]\n",
    "\n",
    "    return df_1, df_2\n",
    "\n",
    "\n",
    "def combinedf(df_1, df_2):\n",
    "    # check if works\n",
    "    df_1.set_index(df_1.iloc[:, 0], inplace=True)\n",
    "    df_2.set_index(df_2.iloc[:, 0], inplace=True)\n",
    "    df_1 = df_1.drop(df_1.columns[[0]], axis=1)\n",
    "    df_2 = df_2.drop(df_2.columns[[0]], axis=1)\n",
    "    df = pd.merge(df_1,df_2, how='inner', left_index=True, right_index=True)\n",
    "    return df.dropna()\n",
    "\n",
    "\n",
    "directory = './'\n",
    "\n",
    "directory = os.fsencode(directory)\n",
    "\n",
    "dataframes_list = []\n",
    "counter = 0\n",
    "for file in os.listdir(directory):\n",
    "    filename = os.fsdecode(file)\n",
    "    if filename.endswith(\".csv\"):\n",
    "        df_y = pd.read_csv(filename, sep=';', usecols=[6, 7])\n",
    "        df_y.iloc[:, 0] = pd.to_datetime(df_y.iloc[:, 0], format='%Y')\n",
    "        df_m = pd.read_csv(filename, sep=';', usecols=[4, 5])\n",
    "        df_m.iloc[:, 0] = pd.to_datetime(df_m.iloc[:, 0], format='%Y-%m')\n",
    "        df_d = pd.read_csv(filename, sep=';', usecols=[2, 3])\n",
    "        df_d.iloc[:, 0] = pd.to_datetime(df_d.iloc[:, 0], format='%Y-%m-%d')\n",
    "        df_h = pd.read_csv(filename, sep=';', usecols=[0, 1])\n",
    "        df_h.iloc[:, 0] = pd.to_datetime(df_d.iloc[:, 0][0], format='%Y-%m-%dT%h')\n",
    "        dataframes_list.append([df_h, df_d, df_m, df_y, filename])\n",
    "        counter += 1\n",
    "\n",
    "\n",
    "corrMatrix = np.zeros((counter, counter))\n",
    "for i in range(counter):\n",
    "    for j in range(i+1, counter):\n",
    "        level = getcrossminlevel(dataframes_list[i], dataframes_list[j])\n",
    "        if level == -1:\n",
    "            continue\n",
    "        # Levels: y: 3, m:2, d: 1, h:0, error: -1\n",
    "        dframe1, dframe2 = cropdates(dataframes_list[i][level], dataframes_list[j][level])\n",
    "        df_for_corr = combinedf(dframe1, dframe2)\n",
    "        corrMatrix[i, j] = df_for_corr.iloc[:, 0].corr(df_for_corr.iloc[:, 1])\n",
    "\n",
    "\n",
    "np.savetxt('correlationMatrix.csv', corrMatrix, delimiter=';')\n",
    "\n",
    "\n"
   ]
  },
  {
   "cell_type": "code",
   "execution_count": 4,
   "metadata": {},
   "outputs": [],
   "source": [
    "# PLOT HELPERS\n",
    "def plot_stats(df: pd.DataFrame, title: str, x_label: str, y1_label: str, y2_label: str):\n",
    "    ax1 = df.plot('x','y1', color='b')\n",
    "    ax1.set_ylabel(y1_label)\n",
    "    ax1.set_xlabel(x_label)\n",
    "    ax_twin = ax1.twinx()\n",
    "    ax2 = df.plot('x','y2',ax=ax_twin, secondary_y=True, color='r')\n",
    "    ax2.set_ylabel(y2_label)\n",
    "\n",
    "    plt.title(title)\n",
    "\n",
    "    plt.show()\n",
    "\n",
    "#Sample\n",
    "#test_df = pd.DataFrame({'x' : ['1991-01-01T02','1991-01-02T02','1991-01-04T02','1991-01-05T02'],'y1' : [10,20,30,40],'y2' : [100,50,-30,-50]})\n",
    "#plot_stats(test_df, 'This is a Title', 'X axis', 'Y1 axis', 'Y2 axis')"
   ]
  }
 ],
 "metadata": {
  "kernelspec": {
   "display_name": "Python 3.9.7 ('AI_App_Project1.1')",
   "language": "python",
   "name": "python3"
  },
  "language_info": {
   "codemirror_mode": {
    "name": "ipython",
    "version": 3
   },
   "file_extension": ".py",
   "mimetype": "text/x-python",
   "name": "python",
   "nbconvert_exporter": "python",
   "pygments_lexer": "ipython3",
   "version": "3.9.7"
  },
  "vscode": {
   "interpreter": {
    "hash": "47f4b94770d72c0e291f24dea8c3b6f4496c4e4a32586f340c5e1e528635d191"
   }
  }
 },
 "nbformat": 4,
 "nbformat_minor": 5
}
